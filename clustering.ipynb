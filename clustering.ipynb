{
 "cells": [
  {
   "cell_type": "code",
   "execution_count": 2,
   "id": "78bef65f-7f10-49d2-a942-7d1d08270641",
   "metadata": {},
   "outputs": [],
   "source": [
    "import pandas as pd"
   ]
  },
  {
   "cell_type": "code",
   "execution_count": 3,
   "id": "782be45b-1d03-46ee-8d63-2505eccf430e",
   "metadata": {},
   "outputs": [
    {
     "name": "stderr",
     "output_type": "stream",
     "text": [
      "/Users/sowmyathanvantri/opt/anaconda3/envs/finetuning/lib/python3.9/site-packages/IPython/core/interactiveshell.py:3444: DtypeWarning: Columns (13,17,24,26,28) have mixed types.Specify dtype option on import or set low_memory=False.\n",
      "  exec(code_obj, self.user_global_ns, self.user_ns)\n"
     ]
    }
   ],
   "source": [
    "df = pd.read_csv('McPAS-TCR.csv', encoding = 'latin1')"
   ]
  },
  {
   "cell_type": "code",
   "execution_count": 4,
   "id": "3bdc1d01-1927-4485-820b-30d0360ab6b1",
   "metadata": {},
   "outputs": [],
   "source": [
    "# df2 = pd.read_csv('BindingAffinityPrediction/TCREpitopePairs.csv')"
   ]
  },
  {
   "cell_type": "code",
   "execution_count": 5,
   "id": "344455e6-211a-4461-8fd5-5b615866041e",
   "metadata": {},
   "outputs": [],
   "source": [
    "import pickle\n",
    "\n",
    "\n",
    "with open('McPAS_Embeddings_FineTuned.pkl', 'rb') as f:\n",
    "    data = pickle.load(f)"
   ]
  },
  {
   "cell_type": "code",
   "execution_count": 6,
   "id": "a2e2a691-2a69-4502-a1f0-97f6f1e275c0",
   "metadata": {},
   "outputs": [],
   "source": [
    "from sklearn.cluster import AgglomerativeClustering"
   ]
  },
  {
   "cell_type": "code",
   "execution_count": 7,
   "id": "553d5a07-f716-4648-abc7-dc229cae6ef3",
   "metadata": {},
   "outputs": [],
   "source": [
    "from sklearn.metrics.cluster import normalized_mutual_info_score"
   ]
  },
  {
   "cell_type": "code",
   "execution_count": 8,
   "id": "7720b4ad-36be-4008-94f8-2b2e4050050d",
   "metadata": {},
   "outputs": [],
   "source": [
    "import numpy as np"
   ]
  },
  {
   "cell_type": "code",
   "execution_count": 9,
   "id": "37f72c28-12ca-4f32-9ccd-03db3cd1f373",
   "metadata": {},
   "outputs": [],
   "source": [
    "df = df.loc[df['Species'] == 'Human']"
   ]
  },
  {
   "cell_type": "code",
   "execution_count": 10,
   "id": "5edfdead-8055-4910-95b7-e5e1c892b076",
   "metadata": {},
   "outputs": [
    {
     "data": {
      "text/plain": [
       "74       D008545\n",
       "75       D008545\n",
       "76       D008545\n",
       "77       D008545\n",
       "78       D008545\n",
       "          ...   \n",
       "39980    D020031\n",
       "39981    D020031\n",
       "39982    D020031\n",
       "39983    D020031\n",
       "39984    D020031\n",
       "Name: Pathology.Mesh.ID, Length: 36219, dtype: object"
      ]
     },
     "execution_count": 10,
     "metadata": {},
     "output_type": "execute_result"
    }
   ],
   "source": [
    "df['Pathology.Mesh.ID']"
   ]
  },
  {
   "cell_type": "code",
   "execution_count": 11,
   "id": "87283be9-3026-4f0e-86d7-9373710761b4",
   "metadata": {},
   "outputs": [],
   "source": [
    "df['epi_id'] = df['Pathology.Mesh.ID'].astype('str')"
   ]
  },
  {
   "cell_type": "code",
   "execution_count": 12,
   "id": "bcea6974-e2ee-4f8a-8c22-0a6b2c1bbc0d",
   "metadata": {},
   "outputs": [],
   "source": [
    "df_counts = df.groupby('epi_id').count().sort_values('Pathology', ascending = False)[:8]"
   ]
  },
  {
   "cell_type": "code",
   "execution_count": 13,
   "id": "950dd5ea-69f1-4398-9b5b-f7482696b968",
   "metadata": {},
   "outputs": [],
   "source": [
    "unique_epi = np.unique(df_counts.index)\n",
    "nums = range(len(unique_epi))"
   ]
  },
  {
   "cell_type": "code",
   "execution_count": 14,
   "id": "6df858c1-fa3b-49bd-8c72-27bf06c85a0e",
   "metadata": {
    "tags": []
   },
   "outputs": [],
   "source": [
    "epi_dict = dict(zip(unique_epi, nums))"
   ]
  },
  {
   "cell_type": "code",
   "execution_count": 15,
   "id": "1f8d447e-1c8e-4cad-85a3-cca223567d44",
   "metadata": {},
   "outputs": [],
   "source": [
    "top_8_df = df[df['epi_id'].isin(unique_epi)]"
   ]
  },
  {
   "cell_type": "code",
   "execution_count": 16,
   "id": "b3e0ff34-5bff-4978-8478-e83953cae684",
   "metadata": {},
   "outputs": [
    {
     "data": {
      "text/plain": [
       "Int64Index([   74,    75,    76,    77,    78,    92,    93,    94,    95,\n",
       "               96,\n",
       "            ...\n",
       "            39975, 39976, 39977, 39978, 39979, 39980, 39981, 39982, 39983,\n",
       "            39984],\n",
       "           dtype='int64', length=30591)"
      ]
     },
     "execution_count": 16,
     "metadata": {},
     "output_type": "execute_result"
    }
   ],
   "source": [
    "top_8_df.index"
   ]
  },
  {
   "cell_type": "code",
   "execution_count": 17,
   "id": "6daea9e6-6bac-4ea6-b4dd-811dc19e06f7",
   "metadata": {},
   "outputs": [],
   "source": [
    "true_labels = [epi_dict[x] for x in top_8_df['epi_id']]"
   ]
  },
  {
   "cell_type": "code",
   "execution_count": 18,
   "id": "58741d6c-035b-460c-aaaa-05af7d166772",
   "metadata": {},
   "outputs": [],
   "source": [
    "data = [data[i] for i in top_8_df.index]"
   ]
  },
  {
   "cell_type": "code",
   "execution_count": 19,
   "id": "18f8661c-5ac4-416e-aac8-e954238fa834",
   "metadata": {},
   "outputs": [
    {
     "data": {
      "text/plain": [
       "(30591, 30591)"
      ]
     },
     "execution_count": 19,
     "metadata": {},
     "output_type": "execute_result"
    }
   ],
   "source": [
    "len(data), len(top_8_df)"
   ]
  },
  {
   "cell_type": "code",
   "execution_count": 20,
   "id": "697a7d42-0493-48fe-9db5-cc4f96b0951b",
   "metadata": {
    "tags": []
   },
   "outputs": [],
   "source": [
    "clustering = AgglomerativeClustering(n_clusters = 14).fit(data)"
   ]
  },
  {
   "cell_type": "code",
   "execution_count": 21,
   "id": "54114d0a-e047-449c-9c9c-bd272604e063",
   "metadata": {},
   "outputs": [
    {
     "data": {
      "text/html": [
       "<style>#sk-container-id-1 {color: black;}#sk-container-id-1 pre{padding: 0;}#sk-container-id-1 div.sk-toggleable {background-color: white;}#sk-container-id-1 label.sk-toggleable__label {cursor: pointer;display: block;width: 100%;margin-bottom: 0;padding: 0.3em;box-sizing: border-box;text-align: center;}#sk-container-id-1 label.sk-toggleable__label-arrow:before {content: \"▸\";float: left;margin-right: 0.25em;color: #696969;}#sk-container-id-1 label.sk-toggleable__label-arrow:hover:before {color: black;}#sk-container-id-1 div.sk-estimator:hover label.sk-toggleable__label-arrow:before {color: black;}#sk-container-id-1 div.sk-toggleable__content {max-height: 0;max-width: 0;overflow: hidden;text-align: left;background-color: #f0f8ff;}#sk-container-id-1 div.sk-toggleable__content pre {margin: 0.2em;color: black;border-radius: 0.25em;background-color: #f0f8ff;}#sk-container-id-1 input.sk-toggleable__control:checked~div.sk-toggleable__content {max-height: 200px;max-width: 100%;overflow: auto;}#sk-container-id-1 input.sk-toggleable__control:checked~label.sk-toggleable__label-arrow:before {content: \"▾\";}#sk-container-id-1 div.sk-estimator input.sk-toggleable__control:checked~label.sk-toggleable__label {background-color: #d4ebff;}#sk-container-id-1 div.sk-label input.sk-toggleable__control:checked~label.sk-toggleable__label {background-color: #d4ebff;}#sk-container-id-1 input.sk-hidden--visually {border: 0;clip: rect(1px 1px 1px 1px);clip: rect(1px, 1px, 1px, 1px);height: 1px;margin: -1px;overflow: hidden;padding: 0;position: absolute;width: 1px;}#sk-container-id-1 div.sk-estimator {font-family: monospace;background-color: #f0f8ff;border: 1px dotted black;border-radius: 0.25em;box-sizing: border-box;margin-bottom: 0.5em;}#sk-container-id-1 div.sk-estimator:hover {background-color: #d4ebff;}#sk-container-id-1 div.sk-parallel-item::after {content: \"\";width: 100%;border-bottom: 1px solid gray;flex-grow: 1;}#sk-container-id-1 div.sk-label:hover label.sk-toggleable__label {background-color: #d4ebff;}#sk-container-id-1 div.sk-serial::before {content: \"\";position: absolute;border-left: 1px solid gray;box-sizing: border-box;top: 0;bottom: 0;left: 50%;z-index: 0;}#sk-container-id-1 div.sk-serial {display: flex;flex-direction: column;align-items: center;background-color: white;padding-right: 0.2em;padding-left: 0.2em;position: relative;}#sk-container-id-1 div.sk-item {position: relative;z-index: 1;}#sk-container-id-1 div.sk-parallel {display: flex;align-items: stretch;justify-content: center;background-color: white;position: relative;}#sk-container-id-1 div.sk-item::before, #sk-container-id-1 div.sk-parallel-item::before {content: \"\";position: absolute;border-left: 1px solid gray;box-sizing: border-box;top: 0;bottom: 0;left: 50%;z-index: -1;}#sk-container-id-1 div.sk-parallel-item {display: flex;flex-direction: column;z-index: 1;position: relative;background-color: white;}#sk-container-id-1 div.sk-parallel-item:first-child::after {align-self: flex-end;width: 50%;}#sk-container-id-1 div.sk-parallel-item:last-child::after {align-self: flex-start;width: 50%;}#sk-container-id-1 div.sk-parallel-item:only-child::after {width: 0;}#sk-container-id-1 div.sk-dashed-wrapped {border: 1px dashed gray;margin: 0 0.4em 0.5em 0.4em;box-sizing: border-box;padding-bottom: 0.4em;background-color: white;}#sk-container-id-1 div.sk-label label {font-family: monospace;font-weight: bold;display: inline-block;line-height: 1.2em;}#sk-container-id-1 div.sk-label-container {text-align: center;}#sk-container-id-1 div.sk-container {/* jupyter's `normalize.less` sets `[hidden] { display: none; }` but bootstrap.min.css set `[hidden] { display: none !important; }` so we also need the `!important` here to be able to override the default hidden behavior on the sphinx rendered scikit-learn.org. See: https://github.com/scikit-learn/scikit-learn/issues/21755 */display: inline-block !important;position: relative;}#sk-container-id-1 div.sk-text-repr-fallback {display: none;}</style><div id=\"sk-container-id-1\" class=\"sk-top-container\"><div class=\"sk-text-repr-fallback\"><pre>AgglomerativeClustering(n_clusters=14)</pre><b>In a Jupyter environment, please rerun this cell to show the HTML representation or trust the notebook. <br />On GitHub, the HTML representation is unable to render, please try loading this page with nbviewer.org.</b></div><div class=\"sk-container\" hidden><div class=\"sk-item\"><div class=\"sk-estimator sk-toggleable\"><input class=\"sk-toggleable__control sk-hidden--visually\" id=\"sk-estimator-id-1\" type=\"checkbox\" checked><label for=\"sk-estimator-id-1\" class=\"sk-toggleable__label sk-toggleable__label-arrow\">AgglomerativeClustering</label><div class=\"sk-toggleable__content\"><pre>AgglomerativeClustering(n_clusters=14)</pre></div></div></div></div></div>"
      ],
      "text/plain": [
       "AgglomerativeClustering(n_clusters=14)"
      ]
     },
     "execution_count": 21,
     "metadata": {},
     "output_type": "execute_result"
    }
   ],
   "source": [
    "clustering"
   ]
  },
  {
   "cell_type": "code",
   "execution_count": 22,
   "id": "2ab2c27b-1de8-4f15-921d-449790250f8b",
   "metadata": {},
   "outputs": [],
   "source": [
    "labels = clustering.labels_"
   ]
  },
  {
   "cell_type": "code",
   "execution_count": 23,
   "id": "ab39fbc8-c35e-4bc6-a36c-e6276df6a52a",
   "metadata": {},
   "outputs": [
    {
     "data": {
      "text/plain": [
       "0.03536419932793367"
      ]
     },
     "execution_count": 23,
     "metadata": {},
     "output_type": "execute_result"
    }
   ],
   "source": [
    "normalized_mutual_info_score(true_labels, labels)"
   ]
  },
  {
   "cell_type": "code",
   "execution_count": 24,
   "id": "993be0df-7ee0-44b0-a2ae-a1d267a74012",
   "metadata": {},
   "outputs": [],
   "source": [
    "scores = {}\n",
    "scores[14] = normalized_mutual_info_score(true_labels, labels)"
   ]
  },
  {
   "cell_type": "code",
   "execution_count": 25,
   "id": "0f3bc747-3d25-4a93-a137-1f50fe7de6e2",
   "metadata": {},
   "outputs": [
    {
     "data": {
      "text/plain": [
       "{14: 0.03536419932793367}"
      ]
     },
     "execution_count": 25,
     "metadata": {},
     "output_type": "execute_result"
    }
   ],
   "source": [
    "scores"
   ]
  },
  {
   "cell_type": "code",
   "execution_count": 26,
   "id": "5d0566b3-e84b-4fa1-baef-8cc6fd13ec87",
   "metadata": {},
   "outputs": [],
   "source": [
    "def find_score(num_clusters):\n",
    "    clustering = AgglomerativeClustering(n_clusters = num_clusters).fit(data)\n",
    "    labels = clustering.labels_\n",
    "    return normalized_mutual_info_score(true_labels, labels)"
   ]
  },
  {
   "cell_type": "code",
   "execution_count": 27,
   "id": "f00a3f9f-46ff-4d14-9d6f-d8ce81817588",
   "metadata": {},
   "outputs": [],
   "source": [
    "#RUN FROM HERE"
   ]
  },
  {
   "cell_type": "code",
   "execution_count": 28,
   "id": "d5914807-8140-4d06-a4aa-ad21cb01e081",
   "metadata": {},
   "outputs": [
    {
     "data": {
      "text/plain": [
       "'hi'"
      ]
     },
     "execution_count": 28,
     "metadata": {},
     "output_type": "execute_result"
    }
   ],
   "source": [
    "'hi'"
   ]
  },
  {
   "cell_type": "code",
   "execution_count": 29,
   "id": "9204ba68-93ed-40c3-9c07-88842b082ce9",
   "metadata": {},
   "outputs": [],
   "source": [
    "scores[5] = find_score(5)"
   ]
  },
  {
   "cell_type": "code",
   "execution_count": 30,
   "id": "fad7d282-5d3f-4cd2-b2f2-c6e77caed06d",
   "metadata": {},
   "outputs": [
    {
     "data": {
      "text/plain": [
       "{14: 0.03536419932793367, 5: 0.03703002706927937}"
      ]
     },
     "execution_count": 30,
     "metadata": {},
     "output_type": "execute_result"
    }
   ],
   "source": [
    "scores"
   ]
  },
  {
   "cell_type": "code",
   "execution_count": 31,
   "id": "0c7f7e78-7b4c-4d34-9d31-c30b46f8e778",
   "metadata": {},
   "outputs": [],
   "source": [
    "scores[8] = find_score(8)"
   ]
  },
  {
   "cell_type": "code",
   "execution_count": 32,
   "id": "dfceeca7-feef-471e-b2f0-0725fd7a0565",
   "metadata": {},
   "outputs": [
    {
     "data": {
      "text/plain": [
       "{14: 0.03536419932793367, 5: 0.03703002706927937, 8: 0.03565029346611493}"
      ]
     },
     "execution_count": 32,
     "metadata": {},
     "output_type": "execute_result"
    }
   ],
   "source": [
    "scores"
   ]
  },
  {
   "cell_type": "code",
   "execution_count": 33,
   "id": "5d4fe5e6-94ac-475b-8dc7-83ecd43883f3",
   "metadata": {},
   "outputs": [],
   "source": [
    "scores[11] = find_score(11)"
   ]
  },
  {
   "cell_type": "code",
   "execution_count": 34,
   "id": "a16a4b86-5f3f-4577-9b65-6b43153d8dca",
   "metadata": {},
   "outputs": [
    {
     "data": {
      "text/plain": [
       "{14: 0.03536419932793367,\n",
       " 5: 0.03703002706927937,\n",
       " 8: 0.03565029346611493,\n",
       " 11: 0.03509871733192126}"
      ]
     },
     "execution_count": 34,
     "metadata": {},
     "output_type": "execute_result"
    }
   ],
   "source": [
    "scores"
   ]
  },
  {
   "cell_type": "code",
   "execution_count": 35,
   "id": "606e9006-3e19-4c89-8dd1-4d141d88ab71",
   "metadata": {},
   "outputs": [],
   "source": [
    "import matplotlib.pyplot as plt"
   ]
  },
  {
   "cell_type": "code",
   "execution_count": 44,
   "id": "0b31e439-8000-4553-8191-09ee760a5865",
   "metadata": {},
   "outputs": [],
   "source": [
    "sorted_dict = {}\n",
    "sorted_keys = list(scores.keys())\n",
    "sorted_keys.sort()\n",
    "for key in sorted_keys:\n",
    "    sorted_dict[key] = scores[key]"
   ]
  },
  {
   "cell_type": "code",
   "execution_count": 46,
   "id": "c5f40ed8-151b-43a2-87b6-54eced0548cc",
   "metadata": {},
   "outputs": [
    {
     "data": {
      "image/png": "[encoded data removed]",
      "text/plain": [
       "<Figure size 1200x800 with 1 Axes>"
      ]
     },
     "metadata": {
      "needs_background": "light"
     },
     "output_type": "display_data"
    }
   ],
   "source": [
    "plt.figure(dpi = 200)\n",
    "plt.plot(sorted_dict.keys(), sorted_dict.values())\n",
    "plt.xlabel('Number of clusters')\n",
    "plt.ylabel('NMI')\n",
    "plt.show()"
   ]
  },
  {
   "cell_type": "code",
   "execution_count": null,
   "id": "f39ee715-482c-4078-ba81-1a70ddbd511d",
   "metadata": {},
   "outputs": [],
   "source": []
  }
 ],
 "metadata": {
  "kernelspec": {
   "display_name": "finetuning",
   "language": "python",
   "name": "finetuning"
  },
  "language_info": {
   "codemirror_mode": {
    "name": "ipython",
    "version": 3
   },
   "file_extension": ".py",
   "mimetype": "text/x-python",
   "name": "python",
   "nbconvert_exporter": "python",
   "pygments_lexer": "ipython3",
   "version": "3.9.7"
  }
 },
 "nbformat": 4,
 "nbformat_minor": 5
}
