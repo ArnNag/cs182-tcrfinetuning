{
 "cells": [
  {
   "cell_type": "code",
   "execution_count": 1,
   "id": "78bef65f-7f10-49d2-a942-7d1d08270641",
   "metadata": {},
   "outputs": [],
   "source": [
    "import pandas as pd"
   ]
  },
  {
   "cell_type": "code",
   "execution_count": 2,
   "id": "083193bc-1639-4fc2-a1bb-ec1aa807dcf2",
   "metadata": {},
   "outputs": [],
   "source": [
    "df = pd.read_csv('catELMo/TCRrepertoires.csv')"
   ]
  },
  {
   "cell_type": "code",
   "execution_count": 3,
   "id": "3bdc1d01-1927-4485-820b-30d0360ab6b1",
   "metadata": {},
   "outputs": [],
   "source": [
    "df2 = pd.read_csv('BindingAffinityPrediction/TCREpitopePairs.csv')"
   ]
  },
  {
   "cell_type": "code",
   "execution_count": 4,
   "id": "4aa00379-57d2-4e5c-b72f-f11cc6709a04",
   "metadata": {},
   "outputs": [],
   "source": [
    "import numpy as np\n",
    "from sklearn.manifold import TSNE"
   ]
  },
  {
   "cell_type": "code",
   "execution_count": 5,
   "id": "890eddc5-6747-4114-8aa0-69a8759c4e89",
   "metadata": {},
   "outputs": [],
   "source": [
    "import pandas as pd\n",
    "from pathlib import Path\n",
    "import torch"
   ]
  },
  {
   "cell_type": "code",
   "execution_count": 6,
   "id": "d31575c3-af3c-45aa-bf71-7d6f57eb84c4",
   "metadata": {},
   "outputs": [],
   "source": [
    "from allennlp.modules.elmo import Elmo, batch_to_ids"
   ]
  },
  {
   "cell_type": "code",
   "execution_count": 7,
   "id": "c2aceadc-fe1e-4838-8117-54dd93d1d0ad",
   "metadata": {},
   "outputs": [],
   "source": [
    "from allennlp.modules.token_embedders import ElmoTokenEmbedder"
   ]
  },
  {
   "cell_type": "code",
   "execution_count": 8,
   "id": "fcea362b-43f1-46e0-8128-1d334aed64ac",
   "metadata": {},
   "outputs": [],
   "source": [
    "model_dir = Path('catELMo_model')\n",
    "weights = model_dir/'weights.hdf5'\n",
    "options = model_dir/'options.json'\n"
   ]
  },
  {
   "cell_type": "code",
   "execution_count": 9,
   "id": "ec3b0977-c7f8-471d-8215-2ac2fd8cca96",
   "metadata": {},
   "outputs": [],
   "source": [
    "embedder  = Elmo(options,weights,2) #num_output_representations = 2  # cuda_device=-1 for CPU"
   ]
  },
  {
   "cell_type": "code",
   "execution_count": 10,
   "id": "c96df756-b8d6-4ead-89f6-751b0acee7e8",
   "metadata": {},
   "outputs": [],
   "source": [
    "def catELMo_embedding(x):\n",
    "    # print(embedder(batch_to_ids(list(x)))['elmo_representations'][0].sum(dim = 0).mean(dim = 0).tolist())\n",
    "    return np.array(embedder(batch_to_ids(list(x)))['elmo_representations'][0].sum(dim = 0).mean(dim = 0).tolist())\n"
   ]
  },
  {
   "cell_type": "code",
   "execution_count": 11,
   "id": "bb0c202c-da40-4308-a4b9-466c822c9352",
   "metadata": {
    "tags": []
   },
   "outputs": [],
   "source": [
    "dat = df2\n",
    "dat['tcr_embeds'] = None\n",
    "dat['epi_embeds'] = None\n",
    "\n",
    "# dat['epi_embeds'] = dat[['epi']].applymap(lambda x: catELMo_embedding(x))['epi']\n",
    "# dat['tcr_embeds'] = dat[['tcr']].applymap(lambda x: catELMo_embedding(x))['tcr']\n"
   ]
  },
  {
   "cell_type": "code",
   "execution_count": 12,
   "id": "c963dde5-2b71-4418-9527-944d818ade26",
   "metadata": {},
   "outputs": [],
   "source": [
    "num_elements = 5000"
   ]
  },
  {
   "cell_type": "code",
   "execution_count": 13,
   "id": "dd064320-b950-4822-8efd-e3de4e085b5a",
   "metadata": {},
   "outputs": [],
   "source": [
    "# dat['epi_embeds'] = dat[['epi']][:1000].applymap(lambda x: catELMo_embedding(x))['epi']"
   ]
  },
  {
   "cell_type": "code",
   "execution_count": null,
   "id": "96b61664-b57b-4c2e-bad5-d13f28c1264d",
   "metadata": {},
   "outputs": [],
   "source": [
    "dat['tcr_embeds'] = dat[['tcr']][:num_elements].applymap(lambda x: catELMo_embedding(x))['tcr']"
   ]
  },
  {
   "cell_type": "code",
   "execution_count": null,
   "id": "6eba42d0-c04f-4883-ace2-88b991017821",
   "metadata": {},
   "outputs": [],
   "source": [
    "'hi'"
   ]
  },
  {
   "cell_type": "code",
   "execution_count": null,
   "id": "49000389-83da-45c4-898e-ba2760571b0e",
   "metadata": {},
   "outputs": [],
   "source": [
    "dat.iloc[num_elements - 1]"
   ]
  },
  {
   "cell_type": "code",
   "execution_count": null,
   "id": "31a12db0-6c6c-4e2a-919c-6d380db41ba3",
   "metadata": {},
   "outputs": [],
   "source": [
    "from sklearn.decomposition import PCA"
   ]
  },
  {
   "cell_type": "code",
   "execution_count": null,
   "id": "564c107c-ee76-4cb5-83a2-553816bfe952",
   "metadata": {},
   "outputs": [],
   "source": [
    "pca = PCA(n_components = 50)"
   ]
  },
  {
   "cell_type": "code",
   "execution_count": null,
   "id": "d8d5d14a-4ae4-4381-8c06-89a8c3dbee10",
   "metadata": {},
   "outputs": [],
   "source": [
    "tcr_embeds_np = np.array(dat['tcr_embeds'][:num_elements].values.tolist())"
   ]
  },
  {
   "cell_type": "code",
   "execution_count": null,
   "id": "7f1112cd-6c6c-4008-8a88-34addaf6fddb",
   "metadata": {
    "tags": []
   },
   "outputs": [],
   "source": [
    "pca.fit(tcr_embeds_np)"
   ]
  },
  {
   "cell_type": "code",
   "execution_count": null,
   "id": "ce871556-0cb6-4579-b949-52af2bf0417e",
   "metadata": {},
   "outputs": [],
   "source": [
    "transformed = pca.transform(tcr_embeds_np)"
   ]
  },
  {
   "cell_type": "code",
   "execution_count": null,
   "id": "67403746-813f-4b29-a80d-b4ec0e1d0000",
   "metadata": {},
   "outputs": [],
   "source": [
    "from sklearn.manifold import TSNE"
   ]
  },
  {
   "cell_type": "code",
   "execution_count": null,
   "id": "c526989b-a8c6-4f54-afe4-5a86a6841b59",
   "metadata": {},
   "outputs": [],
   "source": [
    "tcr_embedded = TSNE(n_components=2, learning_rate='auto', init='pca').fit_transform(transformed)"
   ]
  },
  {
   "cell_type": "code",
   "execution_count": null,
   "id": "a774c7c8-85db-435b-8c10-6563a6f4bd9e",
   "metadata": {},
   "outputs": [],
   "source": [
    "import matplotlib.pyplot as plt"
   ]
  },
  {
   "cell_type": "code",
   "execution_count": null,
   "id": "3fdc0d74-9d86-416c-931d-ee7a4c05cbee",
   "metadata": {},
   "outputs": [],
   "source": [
    "df2"
   ]
  },
  {
   "cell_type": "code",
   "execution_count": null,
   "id": "88c70847-d78b-4a05-808e-91f985d2d47e",
   "metadata": {},
   "outputs": [],
   "source": [
    "colors = ['orange']*num_elements\n",
    "for i in range(num_elements):\n",
    "    if df2.iloc[i].binding == 1:\n",
    "        colors[i] = 'red'\n",
    "plt.scatter(tcr_embedded[:, 0], tcr_embedded[:, 1], color = colors)"
   ]
  },
  {
   "cell_type": "code",
   "execution_count": null,
   "id": "3108ea43-e9a0-493f-bc95-5e57fbe30606",
   "metadata": {},
   "outputs": [],
   "source": []
  }
 ],
 "metadata": {
  "kernelspec": {
   "display_name": "finetuning",
   "language": "python",
   "name": "finetuning"
  },
  "language_info": {
   "codemirror_mode": {
    "name": "ipython",
    "version": 3
   },
   "file_extension": ".py",
   "mimetype": "text/x-python",
   "name": "python",
   "nbconvert_exporter": "python",
   "pygments_lexer": "ipython3",
   "version": "3.9.7"
  }
 },
 "nbformat": 4,
 "nbformat_minor": 5
}
